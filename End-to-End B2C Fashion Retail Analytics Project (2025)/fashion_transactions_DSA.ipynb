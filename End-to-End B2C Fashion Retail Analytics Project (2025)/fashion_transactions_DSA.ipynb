{
 "cells": [
  {
   "cell_type": "markdown",
   "id": "23a15a20",
   "metadata": {},
   "source": [
    "# Fashion Transactions 2025 - Data Structure & Algorithm (DSA) Operations\n",
    "This notebook demonstrates DSA techniques (searching, sorting, grouping, filtering, etc.) on the fashion dataset."
   ]
  },
  {
   "cell_type": "code",
   "execution_count": 4,
   "id": "ece8ff38",
   "metadata": {},
   "outputs": [],
   "source": [
    "# Import necessary libraries\n",
    "import pandas as pd\n",
    "import numpy as np"
   ]
  },
  {
   "cell_type": "code",
   "execution_count": 6,
   "id": "a068def2",
   "metadata": {},
   "outputs": [
    {
     "data": {
      "text/html": [
       "<div>\n",
       "<style scoped>\n",
       "    .dataframe tbody tr th:only-of-type {\n",
       "        vertical-align: middle;\n",
       "    }\n",
       "\n",
       "    .dataframe tbody tr th {\n",
       "        vertical-align: top;\n",
       "    }\n",
       "\n",
       "    .dataframe thead th {\n",
       "        text-align: right;\n",
       "    }\n",
       "</style>\n",
       "<table border=\"1\" class=\"dataframe\">\n",
       "  <thead>\n",
       "    <tr style=\"text-align: right;\">\n",
       "      <th></th>\n",
       "      <th>order_id</th>\n",
       "      <th>order_date</th>\n",
       "      <th>customer_id</th>\n",
       "      <th>age</th>\n",
       "      <th>gender</th>\n",
       "      <th>city</th>\n",
       "      <th>category</th>\n",
       "      <th>subcategory</th>\n",
       "      <th>brand</th>\n",
       "      <th>price</th>\n",
       "      <th>quantity</th>\n",
       "      <th>discount</th>\n",
       "      <th>final_price</th>\n",
       "      <th>channel</th>\n",
       "      <th>return_flag</th>\n",
       "      <th>rating</th>\n",
       "    </tr>\n",
       "  </thead>\n",
       "  <tbody>\n",
       "    <tr>\n",
       "      <th>0</th>\n",
       "      <td>ORD00001</td>\n",
       "      <td>20-04-2025</td>\n",
       "      <td>CUST2824</td>\n",
       "      <td>19</td>\n",
       "      <td>Other</td>\n",
       "      <td>Markland</td>\n",
       "      <td>Footwear</td>\n",
       "      <td>Sneakers</td>\n",
       "      <td>Adidas</td>\n",
       "      <td>1643</td>\n",
       "      <td>1</td>\n",
       "      <td>25</td>\n",
       "      <td>1232.25</td>\n",
       "      <td>Online</td>\n",
       "      <td>0</td>\n",
       "      <td>1</td>\n",
       "    </tr>\n",
       "    <tr>\n",
       "      <th>1</th>\n",
       "      <td>ORD00002</td>\n",
       "      <td>27-05-2025</td>\n",
       "      <td>CUST1488</td>\n",
       "      <td>23</td>\n",
       "      <td>Male</td>\n",
       "      <td>Port Erinmouth</td>\n",
       "      <td>Clothing</td>\n",
       "      <td>T-Shirts</td>\n",
       "      <td>Adidas</td>\n",
       "      <td>4964</td>\n",
       "      <td>4</td>\n",
       "      <td>5</td>\n",
       "      <td>18863.20</td>\n",
       "      <td>Retail</td>\n",
       "      <td>0</td>\n",
       "      <td>1</td>\n",
       "    </tr>\n",
       "    <tr>\n",
       "      <th>2</th>\n",
       "      <td>ORD00003</td>\n",
       "      <td>11-01-2025</td>\n",
       "      <td>CUST3615</td>\n",
       "      <td>45</td>\n",
       "      <td>Female</td>\n",
       "      <td>West Angelicaland</td>\n",
       "      <td>Footwear</td>\n",
       "      <td>Sneakers</td>\n",
       "      <td>Adidas</td>\n",
       "      <td>3257</td>\n",
       "      <td>1</td>\n",
       "      <td>0</td>\n",
       "      <td>3257.00</td>\n",
       "      <td>Retail</td>\n",
       "      <td>1</td>\n",
       "      <td>3</td>\n",
       "    </tr>\n",
       "    <tr>\n",
       "      <th>3</th>\n",
       "      <td>ORD00004</td>\n",
       "      <td>06-04-2025</td>\n",
       "      <td>CUST5333</td>\n",
       "      <td>20</td>\n",
       "      <td>Other</td>\n",
       "      <td>Lawrenceside</td>\n",
       "      <td>Footwear</td>\n",
       "      <td>Boots</td>\n",
       "      <td>H&amp;M</td>\n",
       "      <td>3600</td>\n",
       "      <td>1</td>\n",
       "      <td>20</td>\n",
       "      <td>2880.00</td>\n",
       "      <td>Retail</td>\n",
       "      <td>0</td>\n",
       "      <td>5</td>\n",
       "    </tr>\n",
       "    <tr>\n",
       "      <th>4</th>\n",
       "      <td>ORD00005</td>\n",
       "      <td>20-04-2025</td>\n",
       "      <td>CUST6925</td>\n",
       "      <td>54</td>\n",
       "      <td>Male</td>\n",
       "      <td>Emilymouth</td>\n",
       "      <td>Accessories</td>\n",
       "      <td>Bags</td>\n",
       "      <td>Zara</td>\n",
       "      <td>2366</td>\n",
       "      <td>3</td>\n",
       "      <td>0</td>\n",
       "      <td>7098.00</td>\n",
       "      <td>Online</td>\n",
       "      <td>0</td>\n",
       "      <td>4</td>\n",
       "    </tr>\n",
       "  </tbody>\n",
       "</table>\n",
       "</div>"
      ],
      "text/plain": [
       "   order_id  order_date customer_id  age  gender               city  \\\n",
       "0  ORD00001  20-04-2025    CUST2824   19   Other           Markland   \n",
       "1  ORD00002  27-05-2025    CUST1488   23    Male     Port Erinmouth   \n",
       "2  ORD00003  11-01-2025    CUST3615   45  Female  West Angelicaland   \n",
       "3  ORD00004  06-04-2025    CUST5333   20   Other       Lawrenceside   \n",
       "4  ORD00005  20-04-2025    CUST6925   54    Male         Emilymouth   \n",
       "\n",
       "      category subcategory   brand  price  quantity  discount  final_price  \\\n",
       "0     Footwear    Sneakers  Adidas   1643         1        25      1232.25   \n",
       "1     Clothing    T-Shirts  Adidas   4964         4         5     18863.20   \n",
       "2     Footwear    Sneakers  Adidas   3257         1         0      3257.00   \n",
       "3     Footwear       Boots     H&M   3600         1        20      2880.00   \n",
       "4  Accessories        Bags    Zara   2366         3         0      7098.00   \n",
       "\n",
       "  channel  return_flag  rating  \n",
       "0  Online            0       1  \n",
       "1  Retail            0       1  \n",
       "2  Retail            1       3  \n",
       "3  Retail            0       5  \n",
       "4  Online            0       4  "
      ]
     },
     "execution_count": 6,
     "metadata": {},
     "output_type": "execute_result"
    }
   ],
   "source": [
    "# Load one part of the dataset for demonstration (e.g., part 1)\n",
    "df = pd.read_csv('fashion_transactions_2025.csv')\n",
    "df.head()"
   ]
  },
  {
   "cell_type": "code",
   "execution_count": 8,
   "id": "9e1c8b72-2870-4bb3-9760-c7f3926874a2",
   "metadata": {},
   "outputs": [
    {
     "data": {
      "text/plain": [
       "(55000, 16)"
      ]
     },
     "execution_count": 8,
     "metadata": {},
     "output_type": "execute_result"
    }
   ],
   "source": [
    "df.shape"
   ]
  },
  {
   "cell_type": "markdown",
   "id": "7994c78c",
   "metadata": {},
   "source": [
    "## Linear Search: Find all transactions with discount > 50%"
   ]
  },
  {
   "cell_type": "code",
   "execution_count": 10,
   "id": "b71dcb60",
   "metadata": {},
   "outputs": [
    {
     "data": {
      "text/html": [
       "<div>\n",
       "<style scoped>\n",
       "    .dataframe tbody tr th:only-of-type {\n",
       "        vertical-align: middle;\n",
       "    }\n",
       "\n",
       "    .dataframe tbody tr th {\n",
       "        vertical-align: top;\n",
       "    }\n",
       "\n",
       "    .dataframe thead th {\n",
       "        text-align: right;\n",
       "    }\n",
       "</style>\n",
       "<table border=\"1\" class=\"dataframe\">\n",
       "  <thead>\n",
       "    <tr style=\"text-align: right;\">\n",
       "      <th></th>\n",
       "      <th>order_id</th>\n",
       "      <th>order_date</th>\n",
       "      <th>customer_id</th>\n",
       "      <th>age</th>\n",
       "      <th>gender</th>\n",
       "      <th>city</th>\n",
       "      <th>category</th>\n",
       "      <th>subcategory</th>\n",
       "      <th>brand</th>\n",
       "      <th>price</th>\n",
       "      <th>quantity</th>\n",
       "      <th>discount</th>\n",
       "      <th>final_price</th>\n",
       "      <th>channel</th>\n",
       "      <th>return_flag</th>\n",
       "      <th>rating</th>\n",
       "    </tr>\n",
       "  </thead>\n",
       "  <tbody>\n",
       "  </tbody>\n",
       "</table>\n",
       "</div>"
      ],
      "text/plain": [
       "Empty DataFrame\n",
       "Columns: [order_id, order_date, customer_id, age, gender, city, category, subcategory, brand, price, quantity, discount, final_price, channel, return_flag, rating]\n",
       "Index: []"
      ]
     },
     "execution_count": 10,
     "metadata": {},
     "output_type": "execute_result"
    }
   ],
   "source": [
    "high_discount = df[df['discount'] > 50]\n",
    "high_discount.head()"
   ]
  },
  {
   "cell_type": "markdown",
   "id": "1bc4477d",
   "metadata": {},
   "source": [
    "## Binary Search: On sorted price list (search for closest to ₹500)"
   ]
  },
  {
   "cell_type": "code",
   "execution_count": 12,
   "id": "2ababc14",
   "metadata": {},
   "outputs": [
    {
     "name": "stdout",
     "output_type": "stream",
     "text": [
      "Closest price to ₹500 is: ₹501.3\n"
     ]
    }
   ],
   "source": [
    "prices = sorted(df['final_price'].dropna())\n",
    "\n",
    "# Binary search for closest value to ₹500\n",
    "def binary_search_closest(arr, target):\n",
    "    low, high = 0, len(arr) - 1\n",
    "    while low <= high:\n",
    "        mid = (low + high) // 2\n",
    "        if arr[mid] == target:\n",
    "            return arr[mid]\n",
    "        elif arr[mid] < target:\n",
    "            low = mid + 1\n",
    "        else:\n",
    "            high = mid - 1\n",
    "    # Return closest\n",
    "    return arr[low] if low < len(arr) else arr[high]\n",
    "\n",
    "closest_price = binary_search_closest(prices, 500)\n",
    "print(f'Closest price to ₹500 is: ₹{closest_price}')"
   ]
  },
  {
   "cell_type": "markdown",
   "id": "289d43ac",
   "metadata": {},
   "source": [
    "## Sorting: Top 10 highest final priced orders"
   ]
  },
  {
   "cell_type": "code",
   "execution_count": 17,
   "id": "36f70b7d",
   "metadata": {},
   "outputs": [
    {
     "data": {
      "text/html": [
       "<div>\n",
       "<style scoped>\n",
       "    .dataframe tbody tr th:only-of-type {\n",
       "        vertical-align: middle;\n",
       "    }\n",
       "\n",
       "    .dataframe tbody tr th {\n",
       "        vertical-align: top;\n",
       "    }\n",
       "\n",
       "    .dataframe thead th {\n",
       "        text-align: right;\n",
       "    }\n",
       "</style>\n",
       "<table border=\"1\" class=\"dataframe\">\n",
       "  <thead>\n",
       "    <tr style=\"text-align: right;\">\n",
       "      <th></th>\n",
       "      <th>order_id</th>\n",
       "      <th>final_price</th>\n",
       "    </tr>\n",
       "  </thead>\n",
       "  <tbody>\n",
       "    <tr>\n",
       "      <th>36387</th>\n",
       "      <td>ORD36388</td>\n",
       "      <td>24820.0</td>\n",
       "    </tr>\n",
       "    <tr>\n",
       "      <th>19481</th>\n",
       "      <td>ORD19482</td>\n",
       "      <td>24820.0</td>\n",
       "    </tr>\n",
       "    <tr>\n",
       "      <th>7606</th>\n",
       "      <td>ORD07607</td>\n",
       "      <td>24820.0</td>\n",
       "    </tr>\n",
       "    <tr>\n",
       "      <th>52150</th>\n",
       "      <td>ORD52151</td>\n",
       "      <td>24820.0</td>\n",
       "    </tr>\n",
       "    <tr>\n",
       "      <th>39066</th>\n",
       "      <td>ORD39067</td>\n",
       "      <td>24820.0</td>\n",
       "    </tr>\n",
       "    <tr>\n",
       "      <th>38957</th>\n",
       "      <td>ORD38958</td>\n",
       "      <td>24820.0</td>\n",
       "    </tr>\n",
       "    <tr>\n",
       "      <th>31583</th>\n",
       "      <td>ORD31584</td>\n",
       "      <td>24820.0</td>\n",
       "    </tr>\n",
       "    <tr>\n",
       "      <th>23638</th>\n",
       "      <td>ORD23639</td>\n",
       "      <td>24820.0</td>\n",
       "    </tr>\n",
       "    <tr>\n",
       "      <th>12001</th>\n",
       "      <td>ORD12002</td>\n",
       "      <td>24820.0</td>\n",
       "    </tr>\n",
       "    <tr>\n",
       "      <th>5349</th>\n",
       "      <td>ORD05350</td>\n",
       "      <td>24820.0</td>\n",
       "    </tr>\n",
       "  </tbody>\n",
       "</table>\n",
       "</div>"
      ],
      "text/plain": [
       "       order_id  final_price\n",
       "36387  ORD36388      24820.0\n",
       "19481  ORD19482      24820.0\n",
       "7606   ORD07607      24820.0\n",
       "52150  ORD52151      24820.0\n",
       "39066  ORD39067      24820.0\n",
       "38957  ORD38958      24820.0\n",
       "31583  ORD31584      24820.0\n",
       "23638  ORD23639      24820.0\n",
       "12001  ORD12002      24820.0\n",
       "5349   ORD05350      24820.0"
      ]
     },
     "execution_count": 17,
     "metadata": {},
     "output_type": "execute_result"
    }
   ],
   "source": [
    "top_prices = df.sort_values(by='final_price', ascending=False).head(10)\n",
    "top_prices[['order_id', 'final_price']]"
   ]
  },
  {
   "cell_type": "markdown",
   "id": "648fa66f",
   "metadata": {},
   "source": [
    "## Hashing: Count number of purchases per user"
   ]
  },
  {
   "cell_type": "code",
   "execution_count": 24,
   "id": "87d8e7d7",
   "metadata": {},
   "outputs": [
    {
     "data": {
      "text/plain": [
       "customer_id\n",
       "CUST5328    75\n",
       "CUST3940    58\n",
       "CUST1439    55\n",
       "CUST7227    55\n",
       "CUST1543    53\n",
       "Name: count, dtype: int64"
      ]
     },
     "execution_count": 24,
     "metadata": {},
     "output_type": "execute_result"
    }
   ],
   "source": [
    "user_counts = df['customer_id'].value_counts()\n",
    "user_counts.head()"
   ]
  },
  {
   "cell_type": "markdown",
   "id": "7e4c3266",
   "metadata": {},
   "source": [
    "## Grouping: Total revenue per brand"
   ]
  },
  {
   "cell_type": "code",
   "execution_count": 22,
   "id": "6266c195",
   "metadata": {},
   "outputs": [
    {
     "data": {
      "text/plain": [
       "brand\n",
       "Prada     51168575.15\n",
       "Zara      50154732.70\n",
       "Adidas    49728724.85\n",
       "Gucci     49152679.05\n",
       "Uniqlo    48848001.15\n",
       "Name: final_price, dtype: float64"
      ]
     },
     "execution_count": 22,
     "metadata": {},
     "output_type": "execute_result"
    }
   ],
   "source": [
    "revenue_per_brand = df.groupby('brand')['final_price'].sum().sort_values(ascending=False)\n",
    "revenue_per_brand.head()"
   ]
  },
  {
   "cell_type": "code",
   "execution_count": null,
   "id": "ffcd759c-38a2-4a1c-a60e-eccbf6fca7dd",
   "metadata": {},
   "outputs": [],
   "source": []
  }
 ],
 "metadata": {
  "kernelspec": {
   "display_name": "Python 3 (ipykernel)",
   "language": "python",
   "name": "python3"
  },
  "language_info": {
   "codemirror_mode": {
    "name": "ipython",
    "version": 3
   },
   "file_extension": ".py",
   "mimetype": "text/x-python",
   "name": "python",
   "nbconvert_exporter": "python",
   "pygments_lexer": "ipython3",
   "version": "3.12.4"
  }
 },
 "nbformat": 4,
 "nbformat_minor": 5
}
