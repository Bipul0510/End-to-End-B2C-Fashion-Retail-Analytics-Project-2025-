{
 "cells": [
  {
   "cell_type": "markdown",
   "id": "6c4b9dc8",
   "metadata": {},
   "source": [
    "# Fashion Transactions 2025 - Exploratory Data Analysis (EDA)\n",
    "This notebook performs basic EDA on the combined dataset (55,000 rows).\n"
   ]
  },
  {
   "cell_type": "code",
   "execution_count": 1,
   "id": "4d51a7f9",
   "metadata": {},
   "outputs": [],
   "source": [
    "# Import libraries\n",
    "import pandas as pd\n",
    "import matplotlib.pyplot as plt\n",
    "import seaborn as sns\n",
    "sns.set(style='whitegrid')"
   ]
  },
  {
   "cell_type": "code",
   "execution_count": 3,
   "id": "68b08ddf",
   "metadata": {},
   "outputs": [
    {
     "data": {
      "text/html": [
       "<div>\n",
       "<style scoped>\n",
       "    .dataframe tbody tr th:only-of-type {\n",
       "        vertical-align: middle;\n",
       "    }\n",
       "\n",
       "    .dataframe tbody tr th {\n",
       "        vertical-align: top;\n",
       "    }\n",
       "\n",
       "    .dataframe thead th {\n",
       "        text-align: right;\n",
       "    }\n",
       "</style>\n",
       "<table border=\"1\" class=\"dataframe\">\n",
       "  <thead>\n",
       "    <tr style=\"text-align: right;\">\n",
       "      <th></th>\n",
       "      <th>order_id</th>\n",
       "      <th>order_date</th>\n",
       "      <th>customer_id</th>\n",
       "      <th>age</th>\n",
       "      <th>gender</th>\n",
       "      <th>city</th>\n",
       "      <th>category</th>\n",
       "      <th>subcategory</th>\n",
       "      <th>brand</th>\n",
       "      <th>price</th>\n",
       "      <th>quantity</th>\n",
       "      <th>discount</th>\n",
       "      <th>final_price</th>\n",
       "      <th>channel</th>\n",
       "      <th>return_flag</th>\n",
       "      <th>rating</th>\n",
       "    </tr>\n",
       "  </thead>\n",
       "  <tbody>\n",
       "    <tr>\n",
       "      <th>0</th>\n",
       "      <td>ORD00001</td>\n",
       "      <td>20-04-2025</td>\n",
       "      <td>CUST2824</td>\n",
       "      <td>19</td>\n",
       "      <td>Other</td>\n",
       "      <td>Markland</td>\n",
       "      <td>Footwear</td>\n",
       "      <td>Sneakers</td>\n",
       "      <td>Adidas</td>\n",
       "      <td>1643</td>\n",
       "      <td>1</td>\n",
       "      <td>25</td>\n",
       "      <td>1232.25</td>\n",
       "      <td>Online</td>\n",
       "      <td>0</td>\n",
       "      <td>1</td>\n",
       "    </tr>\n",
       "    <tr>\n",
       "      <th>1</th>\n",
       "      <td>ORD00002</td>\n",
       "      <td>27-05-2025</td>\n",
       "      <td>CUST1488</td>\n",
       "      <td>23</td>\n",
       "      <td>Male</td>\n",
       "      <td>Port Erinmouth</td>\n",
       "      <td>Clothing</td>\n",
       "      <td>T-Shirts</td>\n",
       "      <td>Adidas</td>\n",
       "      <td>4964</td>\n",
       "      <td>4</td>\n",
       "      <td>5</td>\n",
       "      <td>18863.20</td>\n",
       "      <td>Retail</td>\n",
       "      <td>0</td>\n",
       "      <td>1</td>\n",
       "    </tr>\n",
       "    <tr>\n",
       "      <th>2</th>\n",
       "      <td>ORD00003</td>\n",
       "      <td>11-01-2025</td>\n",
       "      <td>CUST3615</td>\n",
       "      <td>45</td>\n",
       "      <td>Female</td>\n",
       "      <td>West Angelicaland</td>\n",
       "      <td>Footwear</td>\n",
       "      <td>Sneakers</td>\n",
       "      <td>Adidas</td>\n",
       "      <td>3257</td>\n",
       "      <td>1</td>\n",
       "      <td>0</td>\n",
       "      <td>3257.00</td>\n",
       "      <td>Retail</td>\n",
       "      <td>1</td>\n",
       "      <td>3</td>\n",
       "    </tr>\n",
       "    <tr>\n",
       "      <th>3</th>\n",
       "      <td>ORD00004</td>\n",
       "      <td>06-04-2025</td>\n",
       "      <td>CUST5333</td>\n",
       "      <td>20</td>\n",
       "      <td>Other</td>\n",
       "      <td>Lawrenceside</td>\n",
       "      <td>Footwear</td>\n",
       "      <td>Boots</td>\n",
       "      <td>H&amp;M</td>\n",
       "      <td>3600</td>\n",
       "      <td>1</td>\n",
       "      <td>20</td>\n",
       "      <td>2880.00</td>\n",
       "      <td>Retail</td>\n",
       "      <td>0</td>\n",
       "      <td>5</td>\n",
       "    </tr>\n",
       "    <tr>\n",
       "      <th>4</th>\n",
       "      <td>ORD00005</td>\n",
       "      <td>20-04-2025</td>\n",
       "      <td>CUST6925</td>\n",
       "      <td>54</td>\n",
       "      <td>Male</td>\n",
       "      <td>Emilymouth</td>\n",
       "      <td>Accessories</td>\n",
       "      <td>Bags</td>\n",
       "      <td>Zara</td>\n",
       "      <td>2366</td>\n",
       "      <td>3</td>\n",
       "      <td>0</td>\n",
       "      <td>7098.00</td>\n",
       "      <td>Online</td>\n",
       "      <td>0</td>\n",
       "      <td>4</td>\n",
       "    </tr>\n",
       "  </tbody>\n",
       "</table>\n",
       "</div>"
      ],
      "text/plain": [
       "   order_id  order_date customer_id  age  gender               city  \\\n",
       "0  ORD00001  20-04-2025    CUST2824   19   Other           Markland   \n",
       "1  ORD00002  27-05-2025    CUST1488   23    Male     Port Erinmouth   \n",
       "2  ORD00003  11-01-2025    CUST3615   45  Female  West Angelicaland   \n",
       "3  ORD00004  06-04-2025    CUST5333   20   Other       Lawrenceside   \n",
       "4  ORD00005  20-04-2025    CUST6925   54    Male         Emilymouth   \n",
       "\n",
       "      category subcategory   brand  price  quantity  discount  final_price  \\\n",
       "0     Footwear    Sneakers  Adidas   1643         1        25      1232.25   \n",
       "1     Clothing    T-Shirts  Adidas   4964         4         5     18863.20   \n",
       "2     Footwear    Sneakers  Adidas   3257         1         0      3257.00   \n",
       "3     Footwear       Boots     H&M   3600         1        20      2880.00   \n",
       "4  Accessories        Bags    Zara   2366         3         0      7098.00   \n",
       "\n",
       "  channel  return_flag  rating  \n",
       "0  Online            0       1  \n",
       "1  Retail            0       1  \n",
       "2  Retail            1       3  \n",
       "3  Retail            0       5  \n",
       "4  Online            0       4  "
      ]
     },
     "execution_count": 3,
     "metadata": {},
     "output_type": "execute_result"
    }
   ],
   "source": [
    "# Load the data (you can concatenate all 11 CSVs or load one for testing)\n",
    "df = pd.read_csv('fashion_transactions_2025.csv')\n",
    "df.head()"
   ]
  },
  {
   "cell_type": "code",
   "execution_count": 5,
   "id": "29015e70-7ce5-435f-8b92-23168adfcf24",
   "metadata": {},
   "outputs": [
    {
     "data": {
      "text/plain": [
       "(55000, 16)"
      ]
     },
     "execution_count": 5,
     "metadata": {},
     "output_type": "execute_result"
    }
   ],
   "source": [
    "df.shape"
   ]
  },
  {
   "cell_type": "code",
   "execution_count": null,
   "id": "c8876ec4",
   "metadata": {},
   "outputs": [],
   "source": [
    "# Check basic info and missing values\n",
    "df.info()\n",
    "df.isnull().sum()"
   ]
  },
  {
   "cell_type": "code",
   "execution_count": null,
   "id": "792cb882",
   "metadata": {},
   "outputs": [],
   "source": [
    "# Summary statistics\n",
    "df.describe(include='all')"
   ]
  },
  {
   "cell_type": "code",
   "execution_count": null,
   "id": "b05b1e47",
   "metadata": {},
   "outputs": [],
   "source": [
    "# Distribution of numeric columns\n",
    "df[['price', 'quantity', 'discount', 'final_price', 'rating']].hist(bins=20, figsize=(12, 8))\n",
    "plt.tight_layout()"
   ]
  },
  {
   "cell_type": "code",
   "execution_count": null,
   "id": "6a0c22c4",
   "metadata": {},
   "outputs": [],
   "source": [
    "# Category distribution\n",
    "sns.countplot(data=df, x='category')\n",
    "plt.xticks(rotation=45)\n",
    "plt.title('Category Distribution')"
   ]
  },
  {
   "cell_type": "code",
   "execution_count": null,
   "id": "bc04a3d5",
   "metadata": {},
   "outputs": [],
   "source": [
    "# Revenue by category\n",
    "cat_revenue = df.groupby('category')['final_price'].sum().sort_values(ascending=False)\n",
    "cat_revenue.plot(kind='bar', title='Revenue by Category')\n",
    "plt.ylabel('Revenue')"
   ]
  },
  {
   "cell_type": "code",
   "execution_count": null,
   "id": "4ca3b1ba",
   "metadata": {},
   "outputs": [],
   "source": [
    "# Average rating per brand\n",
    "avg_rating = df.groupby('brand')['rating'].mean().sort_values(ascending=False)\n",
    "avg_rating.plot(kind='barh', figsize=(8,10), title='Average Rating by Brand')\n",
    "plt.xlabel('Average Rating')"
   ]
  },
  {
   "cell_type": "code",
   "execution_count": null,
   "id": "07186372",
   "metadata": {},
   "outputs": [],
   "source": [
    "# Return rate by category\n",
    "return_rate = df.groupby('category')['return_flag'].mean().sort_values(ascending=False) * 100\n",
    "return_rate.plot(kind='bar', title='Return Rate by Category')\n",
    "plt.ylabel('Return Rate (%)')"
   ]
  }
 ],
 "metadata": {
  "kernelspec": {
   "display_name": "Python 3 (ipykernel)",
   "language": "python",
   "name": "python3"
  },
  "language_info": {
   "codemirror_mode": {
    "name": "ipython",
    "version": 3
   },
   "file_extension": ".py",
   "mimetype": "text/x-python",
   "name": "python",
   "nbconvert_exporter": "python",
   "pygments_lexer": "ipython3",
   "version": "3.12.4"
  }
 },
 "nbformat": 4,
 "nbformat_minor": 5
}
